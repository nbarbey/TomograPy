{
 "cells": [
  {
   "cell_type": "code",
   "execution_count": 2,
   "id": "cb8331251091bb70",
   "metadata": {
    "ExecuteTime": {
     "end_time": "2023-09-12T07:52:07.633372Z",
     "start_time": "2023-09-12T07:52:07.622213Z"
    },
    "collapsed": false
   },
   "outputs": [],
   "source": [
    "import matplotlib.pyplot as plt\n",
    "import numpy as np\n",
    "import pylops\n",
    "from datetime import datetime\n",
    "from glob import glob\n",
    "from astropy.io import fits\n",
    "import os\n",
    "from itertools import chain\n",
    "from tomograpy import project_3d, backproject_3d\n",
    "from pylops.basicoperators import FunctionOperator\n",
    "from pylops import LinearOperator, lsqr\n",
    "from skimage.transform import resize"
   ]
  },
  {
   "cell_type": "code",
   "execution_count": 3,
   "id": "78e1a0c6da351cb1",
   "metadata": {
    "ExecuteTime": {
     "end_time": "2023-09-12T07:52:08.317261Z",
     "start_time": "2023-09-12T07:52:08.308976Z"
    },
    "collapsed": false
   },
   "outputs": [],
   "source": [
    "def z_rotation_matrix_3d(angle):\n",
    "    return np.array([[[np.cos(angle), np.sin(angle), 0],\n",
    "                      [-np.sin(angle), np.cos(angle), 0],\n",
    "                      [0, 0, 1]]])"
   ]
  },
  {
   "cell_type": "code",
   "execution_count": 4,
   "id": "baeb33cae488059b",
   "metadata": {
    "ExecuteTime": {
     "end_time": "2023-09-12T08:16:29.425304Z",
     "start_time": "2023-09-12T08:16:29.225943Z"
    },
    "collapsed": false
   },
   "outputs": [
    {
     "name": "stderr",
     "output_type": "stream",
     "text": [
      "WARNING: VerifyWarning: Invalid 'BLANK' keyword in header.  The 'BLANK' keyword is only applicable to integer data, and will be ignored in this HDU. [astropy.io.fits.hdu.image]\n",
      "WARNING: VerifyWarning: Invalid 'BLANK' keyword in header.  The 'BLANK' keyword is only applicable to integer data, and will be ignored in this HDU.\n"
     ]
    }
   ],
   "source": [
    "angles = list(range(5, 91, 5))\n",
    "rad_angles = np.deg2rad(angles)\n",
    "\n",
    "path = \"/Users/jhughes/Desktop/data/synthetic COMPLETE data/5 degree/\"\n",
    "filenames = glob(path + \"*.fits\")\n",
    "OFFSET = 32768.0\n",
    "loaded_imgs = {np.deg2rad(angle): fits.open(os.path.join(path + f\"comp_wl_284_ang_{angle}.fits\"))[0].data for angle in angles}\n",
    "radius = 300\n",
    "\n",
    "img_size = 100 \n",
    "cube_size = 100\n",
    "\n",
    "RSUN = 285\n",
    "SCALE_FACTOR = img_size / 1024\n",
    "RSUN_SCALED = int(np.round(RSUN * SCALE_FACTOR))"
   ]
  },
  {
   "cell_type": "code",
   "execution_count": 5,
   "id": "40342e718a742dd9",
   "metadata": {
    "ExecuteTime": {
     "end_time": "2023-09-12T08:27:05.716269Z",
     "start_time": "2023-09-12T08:27:03.836277Z"
    },
    "collapsed": false
   },
   "outputs": [],
   "source": [
    "angles = list(chain(range(70, 80), range(130, 140)))\n",
    "rad_angles = np.deg2rad(angles)\n",
    "\n",
    "path = \"/Users/jhughes/Desktop/data/synthetic COMPLETE data/1 degree/\"\n",
    "filenames = glob(path + \"*.fits\")\n",
    "OFFSET = 32768.0\n",
    "loaded_imgs = {np.deg2rad(angle): fits.open(os.path.join(path + f\"comp_wl_284_ang_{angle}.fits\"))[0].data - OFFSET for angle in angles}\n",
    "radius = 300\n",
    "\n",
    "img_size = 100 \n",
    "cube_size = 100\n",
    "\n",
    "RSUN = 330\n",
    "SCALE_FACTOR = img_size / 1024\n",
    "RSUN_SCALED = int(np.round(RSUN * SCALE_FACTOR))"
   ]
  },
  {
   "cell_type": "code",
   "execution_count": 141,
   "id": "2555e5c8e864323a",
   "metadata": {
    "ExecuteTime": {
     "end_time": "2023-09-12T08:27:07.557183Z",
     "start_time": "2023-09-12T08:27:07.545526Z"
    },
    "collapsed": false
   },
   "outputs": [],
   "source": [
    "# angle = 90\n",
    "# test_img = fits.open(os.path.join(path + f\"comp_wl_284_ang_{angle}.fits\"))[0].data #- OFFSET\n",
    "# x, y = np.meshgrid(np.arange(test_img.shape[0]), np.arange(test_img.shape[1]))\n",
    "# r = np.sqrt(np.square(x - 512) + np.square(y - 512))\n",
    "# \n",
    "# test_img[r < 285] = 1400\n",
    "# fig, ax = plt.subplots()\n",
    "# im = ax.imshow(test_img, origin='lower', vmin=0, vmax=1300)\n",
    "# fig.colorbar(im)"
   ]
  },
  {
   "cell_type": "code",
   "execution_count": 6,
   "id": "ab5a8994b0a678f",
   "metadata": {
    "ExecuteTime": {
     "end_time": "2023-09-12T08:27:10.677303Z",
     "start_time": "2023-09-12T08:27:10.599332Z"
    },
    "collapsed": false
   },
   "outputs": [],
   "source": [
    "densities = np.zeros((cube_size, cube_size, cube_size), dtype=np.float32)\n",
    "mask = np.ones((cube_size, cube_size, cube_size), dtype=bool)\n",
    "x, y, z = np.meshgrid(np.arange(img_size), np.arange(img_size), np.arange(img_size))\n",
    "r = np.sqrt(np.square(x - 50) + np.square(y - 50) + np.square(z - 50))\n",
    "mask[r < RSUN_SCALED] = False"
   ]
  },
  {
   "cell_type": "code",
   "execution_count": 8,
   "id": "b35d09ccf2e975b2",
   "metadata": {
    "ExecuteTime": {
     "end_time": "2023-09-12T08:27:14.864084Z",
     "start_time": "2023-09-12T08:27:13.337540Z"
    },
    "collapsed": false
   },
   "outputs": [
    {
     "name": "stdout",
     "output_type": "stream",
     "text": [
      "-70.0 160.0 [3.4201506e-01 9.3969452e-01 1.0000000e-06]\n",
      "-71.0 161.0 [3.255599e-01 9.455215e-01 1.000000e-06]\n",
      "-72.0 162.0 [3.0899498e-01 9.5106369e-01 1.0000000e-06]\n",
      "-73.0 163.0 [2.923891e-01 9.562995e-01 1.000000e-06]\n",
      "-74.0 164.0 [2.7563596e-01 9.6126211e-01 1.0000000e-06]\n",
      "-75.0 165.00000000000003 [2.5882113e-01 9.6592534e-01 1.0000000e-06]\n",
      "-76.0 166.0 [2.4194139e-01 9.7029090e-01 1.0000000e-06]\n",
      "-77.0 167.0 [2.2494474e-01 9.7437149e-01 1.0000000e-06]\n",
      "-78.0 167.99999999999997 [2.0791726e-01 9.7814643e-01 1.0000000e-06]\n",
      "-79.0 169.0 [1.9082557e-01 9.8162401e-01 1.0000000e-06]\n",
      "-130.0 220.0 [-6.427862e-01  7.660457e-01  1.000000e-06]\n",
      "-131.0 221.0 [-6.5606087e-01  7.5470805e-01  1.0000000e-06]\n",
      "-132.0 222.0 [-6.691190e-01  7.431553e-01  1.000000e-06]\n",
      "-133.0 223.0 [-6.8199474e-01  7.3135710e-01  1.0000000e-06]\n",
      "-134.0 224.0 [-6.9466233e-01  7.1933603e-01  1.0000000e-06]\n",
      "-135.0 225.0 [-7.0711440e-01  7.0709914e-01  1.0000000e-06]\n",
      "-136.0 226.0 [-7.1933573e-01  6.9466263e-01  1.0000000e-06]\n",
      "-137.0 227.0 [-7.3135710e-01  6.8199474e-01  1.0000000e-06]\n",
      "-138.0 228.0 [-7.4314773e-01  6.6912746e-01  1.0000000e-06]\n",
      "-139.0 229.0 [-7.5471556e-01  6.5605217e-01  1.0000000e-06]\n"
     ]
    }
   ],
   "source": [
    "b = (0, 0, 0)\n",
    "b = (-cube_size / 2, -cube_size / 2, -cube_size / 2)\n",
    "\n",
    "delta = (1.0, 1.0, 1.0)\n",
    "path_distance = 500.0\n",
    "\n",
    "norms, xs, ys, zs, ds, imgs = [], [], [], [], [], []\n",
    "#angles = np.array([0, 30])\n",
    "for angle in rad_angles:\n",
    "    angle = -angle\n",
    "    t_angle = -angle + np.pi/2 #np.deg2rad(np.abs(90*np.cos(angle)))\n",
    "\n",
    "    img_x = np.arange(img_size) - img_size / 2\n",
    "    img_y = np.zeros((img_size, img_size))\n",
    "    img_z = np.arange(img_size) - img_size / 2\n",
    "    img_x, img_z = np.meshgrid(img_x, img_z)\n",
    "\n",
    "    img_x, img_y, img_z = img_x.flatten(), img_y.flatten(), img_z.flatten()\n",
    "\n",
    "    R = z_rotation_matrix_3d(t_angle)\n",
    "    coords = (R @ np.stack([img_x, img_y, img_z]))[0]\n",
    "    img_x, img_y, img_z = coords[0], coords[1], coords[2]\n",
    "    img_x = radius * np.cos(angle) + img_x  # - img_size/2\n",
    "    img_y = radius * np.sin(angle) + img_y  # - img_size/2\n",
    "\n",
    "    xx = img_x.reshape((img_size, img_size)).astype(np.float32)\n",
    "    yy = -img_y.reshape((img_size, img_size)).astype(np.float32)\n",
    "    zz = img_z.reshape((img_size, img_size)).astype(np.float32)\n",
    "\n",
    "    v1 = np.array([xx[0, 1] - xx[0, 0], yy[0, 1] - yy[0, 0], zz[0, 1] - zz[0, 0]])\n",
    "    v2 = np.array([xx[1, 0] - xx[0, 0], yy[1, 0] - yy[0, 0], zz[1, 0] - zz[0, 0]])\n",
    "    v1 = v1 / np.linalg.norm(v1)\n",
    "    v2 = v2 / np.linalg.norm(v2)\n",
    "    normal = np.cross(v1, v2)\n",
    "    normal = normal / np.linalg.norm(normal)\n",
    "\n",
    "    norm = normal  # R @ np.array([1E-7, 1E-7, -1.0])\n",
    "    norm[norm == 0] = 1E-6\n",
    "    norms.append(norm)\n",
    "    print(np.rad2deg(angle), np.rad2deg(t_angle), norm)\n",
    "\n",
    "    d = 500\n",
    "    img = resize(loaded_imgs[-angle], (img_size, img_size))  #project_3d(xx, yy, zz, densities, mask, b, delta, norm, d)\n",
    "    xs.append(xx)\n",
    "    ys.append(yy)\n",
    "    zs.append(zz)\n",
    "    ds.append(d)\n",
    "    imgs.append(img.astype(np.float32))\n",
    "imgs = np.array(imgs)"
   ]
  },
  {
   "cell_type": "code",
   "execution_count": 9,
   "id": "26cc0c45bd960294",
   "metadata": {
    "ExecuteTime": {
     "end_time": "2023-09-12T08:27:33.345208Z",
     "start_time": "2023-09-12T08:27:29.529665Z"
    },
    "collapsed": false
   },
   "outputs": [],
   "source": [
    "for angle, img in zip(rad_angles, imgs):\n",
    "    fig, ax = plt.subplots()\n",
    "    im = ax.imshow(img, vmin=0, vmax=1300)\n",
    "    fig.colorbar(im)\n",
    "    fig.savefig(f\"/Users/jhughes/Desktop/projection_solar/{int(np.rad2deg(angle)):03d}.png\")\n",
    "    plt.close()"
   ]
  },
  {
   "cell_type": "code",
   "execution_count": 10,
   "id": "827272997f7b2995",
   "metadata": {
    "ExecuteTime": {
     "end_time": "2023-09-12T08:30:02.015687Z",
     "start_time": "2023-09-12T08:27:43.103901Z"
    },
    "collapsed": false
   },
   "outputs": [
    {
     "name": "stdout",
     "output_type": "stream",
     "text": [
      "20\n",
      "LSQR\n",
      "------------------------------------------------------------------------------------------\n",
      "The Operator Op has 200000 rows and 1000000 cols\n",
      "damp = 0.00000000000000e+00     calc_var =      1\n",
      "atol = 1.00e-08                 conlim = 1.00e+08\n",
      "btol = 1.00e-08                 niter =      100\n",
      "------------------------------------------------------------------------------------------\n",
      "   Itn     x[0]      r1norm     r2norm   Compatible   LS     Norm A   Cond A\n",
      "     0  0.0000e+00  1.314e+04  1.314e+04   1.0e+00  1.9e-03\n",
      "     1  2.0418e-06  6.768e+03  6.768e+03   5.2e-01  4.0e-01  2.9e+01  1.0e+00\n",
      "     2 -8.9022e-06  4.652e+03  4.652e+03   3.5e-01  3.2e-01  4.1e+01  2.2e+00\n",
      "     3  1.3358e-06  3.198e+03  3.198e+03   2.4e-01  1.5e-01  5.5e+01  3.8e+00\n",
      "     4 -8.4996e-07  2.479e+03  2.479e+03   1.9e-01  1.1e-01  6.2e+01  5.2e+00\n",
      "     5  1.9254e-07  2.146e+03  2.146e+03   1.6e-01  7.2e-02  7.0e+01  6.7e+00\n",
      "     6 -4.4224e-08  1.780e+03  1.780e+03   1.4e-01  6.8e-02  7.5e+01  8.9e+00\n",
      "     7  3.4297e-07  1.568e+03  1.568e+03   1.2e-01  4.6e-02  8.2e+01  1.1e+01\n",
      "     8  8.8537e-07  1.392e+03  1.392e+03   1.1e-01  4.1e-02  8.6e+01  1.3e+01\n",
      "     9  1.0978e-06  1.281e+03  1.281e+03   9.8e-02  3.3e-02  9.1e+01  1.5e+01\n",
      "    10  7.8601e-07  1.160e+03  1.160e+03   8.8e-02  3.2e-02  9.5e+01  1.8e+01\n",
      "    11  1.0239e-06  1.069e+03  1.069e+03   8.1e-02  2.6e-02  1.0e+02  2.0e+01\n",
      "    21  1.6660e-06  5.871e+02  5.871e+02   4.5e-02  1.2e-02  1.4e+02  5.3e+01\n",
      "    31  1.5792e-06  3.996e+02  3.996e+02   3.0e-02  6.0e-03  1.6e+02  9.1e+01\n",
      "    41  1.1374e-06  3.092e+02  3.092e+02   2.4e-02  4.1e-03  1.8e+02  1.4e+02\n",
      "    51  1.1446e-06  2.557e+02  2.557e+02   1.9e-02  2.7e-03  2.1e+02  1.9e+02\n",
      "    61  1.1559e-06  2.218e+02  2.218e+02   1.7e-02  2.2e-03  2.3e+02  2.5e+02\n",
      "    71  1.3409e-06  1.974e+02  1.974e+02   1.5e-02  1.8e-03  2.4e+02  3.1e+02\n",
      "    81  1.3404e-06  1.824e+02  1.824e+02   1.4e-02  1.3e-03  2.6e+02  3.7e+02\n",
      "    91  1.4332e-06  1.697e+02  1.697e+02   1.3e-02  1.2e-03  2.7e+02  4.4e+02\n",
      "    92  1.4396e-06  1.686e+02  1.686e+02   1.3e-02  1.1e-03  2.7e+02  4.5e+02\n",
      "    93  1.4779e-06  1.675e+02  1.675e+02   1.3e-02  1.1e-03  2.8e+02  4.6e+02\n",
      "    94  1.4901e-06  1.664e+02  1.664e+02   1.3e-02  1.1e-03  2.8e+02  4.7e+02\n",
      "    95  1.5001e-06  1.654e+02  1.654e+02   1.3e-02  1.1e-03  2.8e+02  4.7e+02\n",
      "    96  1.5151e-06  1.644e+02  1.644e+02   1.3e-02  1.2e-03  2.8e+02  4.8e+02\n",
      "    97  1.5727e-06  1.636e+02  1.636e+02   1.2e-02  1.1e-03  2.8e+02  4.9e+02\n",
      "    98  1.5617e-06  1.627e+02  1.627e+02   1.2e-02  1.2e-03  2.8e+02  5.0e+02\n",
      "    99  1.6139e-06  1.619e+02  1.619e+02   1.2e-02  1.2e-03  2.9e+02  5.0e+02\n",
      "   100  1.6164e-06  1.611e+02  1.611e+02   1.2e-02  1.0e-03  2.9e+02  5.1e+02\n",
      " \n",
      "LSQR finished, The exact solution is x = 0                               \n",
      " \n",
      "istop =       0   r1norm = 1.6e+02   anorm = 2.9e+02   arnorm = 3.4e+02\n",
      "itn   =     100   r2norm = 1.6e+02   acond = 5.1e+02   xnorm  = 9.8e+02\n",
      "Total time (s) = 1070.34\n",
      "------------------------------------------------------------------------------------------\n",
      "\n"
     ]
    }
   ],
   "source": [
    "class Tomo(LinearOperator):\n",
    "    def __init__(self, xs, ys, zs, norms, ds, b, delta, model_shape, mask, dtype=None):\n",
    "        self.xs = xs\n",
    "        self.ys = ys\n",
    "        self.zs = zs\n",
    "        self.norms = norms\n",
    "        self.ds = ds\n",
    "        self.b = b\n",
    "        self.delta = delta\n",
    "        self.model_shape = model_shape\n",
    "        self.mask = mask\n",
    "        super().__init__(dtype=np.dtype(dtype),\n",
    "                         dims=self.model_shape,\n",
    "                         dimsd=(len(self.xs), self.xs[0].shape[0], self.xs[0].shape[1]))\n",
    "\n",
    "    def _matvec(self, densities):\n",
    "        return np.array([project_3d(x, y, z, densities.reshape(self.model_shape).astype(np.float32),\n",
    "                                    self.mask, self.b, self.delta, norm, d)\n",
    "                for x, y, z, norm, d in zip(self.xs, self.ys, self.zs, self.norms, self.ds)]).flatten()\n",
    "\n",
    "    def _rmatvec(self, imgs):\n",
    "        densitiesi = np.zeros(self.model_shape, dtype=np.float32)\n",
    "        for i, img in enumerate(imgs.reshape(len(self.xs), self.xs[0].shape[0], self.xs[0].shape[1])):\n",
    "            # densitiesi += backproject_3d(self.xs[i], self.ys[i], self.zs[i], img,\n",
    "            #                densitiesi,\n",
    "            #                self.mask, self.b, self.delta, self.norms[i], self.ds[i], True)\n",
    "            densitiesi += backproject_3d(self.xs[i], self.ys[i], self.zs[i], img,\n",
    "                                         np.zeros_like(densitiesi).astype(np.float32),\n",
    "                                         self.mask, self.b, self.delta, self.norms[i], self.ds[i], True)\n",
    "        # return ((densitiesi - np.sum(img)) / (len(self.xs)-1)).astype(np.float32)\n",
    "        return densitiesi.flatten().astype(np.float32) #/ densitiesi.shape[0] / len(self.xs)\n",
    "        #return densitiesi.flatten().astype(np.float32)\n",
    "\n",
    "print(len(xs))\n",
    "op = Tomo(xs, ys, zs, norms, ds, b, delta, densities.shape, mask, dtype=np.float32)\n",
    "\n",
    "Dop = [\n",
    "    pylops.FirstDerivative(\n",
    "        (cube_size, cube_size, cube_size), axis=0, edge=False, kind=\"backward\", dtype=np.float32\n",
    "    ),\n",
    "    pylops.FirstDerivative(\n",
    "        (cube_size, cube_size, cube_size), axis=1, edge=False, kind=\"backward\", dtype=np.float32\n",
    "    ),\n",
    "    pylops.FirstDerivative(\n",
    "        (cube_size, cube_size, cube_size), axis=2, edge=False, kind=\"backward\", dtype=np.float32\n",
    "    )\n",
    "]\n",
    "#\n",
    "# # TV\n",
    "# mu = 1.5\n",
    "# lamda = [0.1, 0.1, 0.1]\n",
    "# niter_out = 2\n",
    "# niter_in = 1\n",
    "#\n",
    "# model = pylops.optimization.sparsity.splitbregman(\n",
    "#     op,\n",
    "#     imgs.ravel(),\n",
    "#     Dop,\n",
    "#     niter_outer=niter_out,\n",
    "#     niter_inner=niter_in,\n",
    "#     mu=mu,\n",
    "#     epsRL1s=lamda,\n",
    "#     tol=1e-4,\n",
    "#     tau=1.0,\n",
    "#     show=True,\n",
    "#     **dict(iter_lim=5, damp=1e-4)\n",
    "# )[0]\n",
    "\n",
    "# model = op / imgs.flatten()\n",
    "# model = pylops.optimization.leastsquares.regularized_inversion(\n",
    "#     op, imgs.flatten(), Dop, **dict(iter_lim=10, show=True, atol=1E-8, btol=1E-8)\n",
    "# )[0]\n",
    "#\n",
    "# model = pylops.optimization.basic.lsqr(op, imgs.flatten(),  x0=np.random.rand(*densities.flatten().shape).astype(np.float32),\n",
    "#                                        niter=100, show=True, damp=0)[0]\n",
    "model = pylops.optimization.basic.lsqr(op, imgs.flatten(), niter=100, show=True)[0]#, x0 = np.random.randint(0, 30, densities.shape))[0] # x0=densities.flatten() + 50 * np.random.rand(*densities.flatten().shape).astype(np.float32) - 25)[0]\n",
    "                                       #                                        niter=100, show=True, damp=0)[0]\n",
    "#model = pylops.optimization.basic.lsqr(op, imgs.flatten(), x0=densities.flatten(), niter=10, show=True)[0]\n",
    "# model = pylops.optimization.basic.lsqr(op, imgs.flatten(), niter=1, show=True)[0]\n",
    "\n",
    "# from pylops.optimization.cls_sparsity import FISTA\n",
    "#\n",
    "# fistasolver = FISTA(op)\n",
    "#\n",
    "# model = fistasolver.solve(imgs.flatten(), niter=2, show=True)[0]\n",
    "\n",
    "#model = pylops.optimization.basic.cgls(op, imgs.flatten(), niter=10, show=True)[0]\n",
    "model = model.reshape(densities.shape)\n"
   ]
  },
  {
   "cell_type": "code",
   "execution_count": 11,
   "id": "bb328c8a6fc51e9",
   "metadata": {
    "ExecuteTime": {
     "end_time": "2023-09-12T08:45:47.519298Z",
     "start_time": "2023-09-12T08:45:10.821057Z"
    },
    "collapsed": false
   },
   "outputs": [],
   "source": [
    "#model = np.load(\"/Users/jhughes/Desktop/projection_solar/cube.npy\")\n",
    "limit = np.nanpercentile(model, 99)\n",
    "\n",
    "for i in range(cube_size):\n",
    "    fig, ax = plt.subplots()\n",
    "    im = ax.imshow(model[:, :, i], vmin=0, vmax=limit, origin='lower')\n",
    "    fig.colorbar(im)\n",
    "    fig.savefig(f\"/Users/jhughes/Desktop/projection_solar/test_{i:03d}.png\")\n",
    "    plt.close()\n",
    "\n",
    "reconstructions = op @ model.flatten()\n",
    "reconstructions = reconstructions.reshape((len(xs), img_size, img_size))\n",
    "\n",
    "for i, angle in enumerate(rad_angles):\n",
    "    fig, axs = plt.subplots(ncols=2)\n",
    "    im = axs[0].imshow(imgs[i], origin='lower')\n",
    "    fig.colorbar(im)\n",
    "    im = axs[1].imshow(reconstructions[i], origin='lower')\n",
    "    fig.colorbar(im)\n",
    "    fig.savefig(f\"/Users/jhughes/Desktop/projection_solar/recon_{np.rad2deg(angle)}.png\")\n",
    "    plt.close()"
   ]
  },
  {
   "cell_type": "code",
   "execution_count": 12,
   "id": "328b9df55d0140ef",
   "metadata": {
    "ExecuteTime": {
     "end_time": "2023-09-12T08:37:51.770029Z",
     "start_time": "2023-09-12T08:37:51.507378Z"
    },
    "collapsed": false
   },
   "outputs": [],
   "source": [
    "i = 14\n",
    "#angle = np.deg2rad(135)\n",
    "POWER = 0.25\n",
    "vmax = 500\n",
    "\n",
    "fig, axs = plt.subplots(ncols=2)\n",
    "im = axs[0].imshow(np.sign(imgs[i]) * np.power(np.abs(imgs[i]), POWER), vmin=0, vmax=np.power(vmax, POWER), origin='lower')\n",
    "axs[0].set_title(\"Ground Truth\")\n",
    "#fig.colorbar(im)\n",
    "im = axs[1].imshow(np.sign(reconstructions[i]) * np.power(np.abs(reconstructions[i]), POWER), vmin=0, vmax=np.power(vmax, POWER), origin='lower')\n",
    "axs[1].set_title(\"Reconstructed Image\")\n",
    "#fig.colorbar(im)\n",
    "fig.savefig(f\"/Users/jhughes/Desktop/projection_solar/example.png\")\n",
    "plt.close()"
   ]
  },
  {
   "cell_type": "code",
   "execution_count": 180,
   "id": "e753f8d391ef57a",
   "metadata": {
    "ExecuteTime": {
     "end_time": "2023-09-12T20:31:38.583858Z",
     "start_time": "2023-09-12T20:31:38.457977Z"
    },
    "collapsed": false
   },
   "outputs": [],
   "source": [
    "np.save(\"/Users/jhughes/Desktop/projection_solar/model.npy\", model)"
   ]
  },
  {
   "cell_type": "code",
   "execution_count": 176,
   "id": "8ddb801ec7382120",
   "metadata": {
    "ExecuteTime": {
     "end_time": "2023-09-12T08:40:14.776305Z",
     "start_time": "2023-09-12T08:40:14.637400Z"
    },
    "collapsed": false
   },
   "outputs": [],
   "source": [
    "i = 14\n",
    "#angle = np.deg2rad(135)\n",
    "POWER = 0.25\n",
    "vmax = 50\n",
    "\n",
    "fig, axs = plt.subplots(ncols=2, figsize=(10, 5))\n",
    "im = axs[0].imshow(imgs[i], vmin=0, vmax=vmax, origin='lower')\n",
    "axs[0].set_title(\"Ground Truth\")\n",
    "axs[0].set_axis_off()\n",
    "#fig.colorbar(im)\n",
    "im = axs[1].imshow(reconstructions[i], vmin=0, vmax=vmax, origin='lower')\n",
    "axs[1].set_title(\"Reconstructed Image\")\n",
    "axs[1].set_axis_off()\n",
    "#fig.colorbar(im)\n",
    "fig.tight_layout()\n",
    "fig.savefig(f\"/Users/jhughes/Desktop/projection_solar/example.png\")\n",
    "plt.close()"
   ]
  },
  {
   "cell_type": "code",
   "execution_count": 166,
   "id": "1139dc73ce9d8e47",
   "metadata": {
    "ExecuteTime": {
     "end_time": "2023-09-12T08:36:44.688065Z",
     "start_time": "2023-09-12T08:36:44.530214Z"
    },
    "collapsed": false
   },
   "outputs": [
    {
     "data": {
      "image/png": "[encoded data removed]",
      "text/plain": [
       "<Figure size 640x480 with 1 Axes>"
      ]
     },
     "metadata": {},
     "output_type": "display_data"
    }
   ],
   "source": [
    "i = 14\n",
    "#angle = np.deg2rad(135)\n",
    "\n",
    "fig, ax = plt.subplots()\n",
    "#fig.colorbar(im)\n",
    "im = ax.imshow(reconstructions[i], vmin=0, vmax=10, origin='lower')\n",
    "#fig.colorbar(im)"
   ]
  },
  {
   "cell_type": "code",
   "execution_count": 167,
   "id": "8d837358be1a2eca",
   "metadata": {
    "ExecuteTime": {
     "end_time": "2023-09-12T08:37:12.739778Z",
     "start_time": "2023-09-12T08:37:12.535874Z"
    },
    "collapsed": false
   },
   "outputs": [
    {
     "data": {
      "image/png": "[encoded data removed]",
      "text/plain": [
       "<Figure size 640x480 with 1 Axes>"
      ]
     },
     "metadata": {},
     "output_type": "display_data"
    }
   ],
   "source": [
    "i = 14\n",
    "#angle = np.deg2rad(135)\n",
    "\n",
    "fig, ax = plt.subplots()\n",
    "#fig.colorbar(im)\n",
    "im = ax.imshow(np.sign(reconstructions[i]), origin='lower')\n",
    "#fig.colorbar(im)"
   ]
  },
  {
   "cell_type": "code",
   "execution_count": null,
   "id": "4d71aa61da2e1256",
   "metadata": {
    "collapsed": false
   },
   "outputs": [],
   "source": []
  }
 ],
 "metadata": {
  "kernelspec": {
   "display_name": "Python 3",
   "language": "python",
   "name": "python3"
  },
  "language_info": {
   "codemirror_mode": {
    "name": "ipython",
    "version": 3
   },
   "file_extension": ".py",
   "mimetype": "text/x-python",
   "name": "python",
   "nbconvert_exporter": "python",
   "pygments_lexer": "ipython3",
   "version": "3.9.16"
  }
 },
 "nbformat": 4,
 "nbformat_minor": 5
}
